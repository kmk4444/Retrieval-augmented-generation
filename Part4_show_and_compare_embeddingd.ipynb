{
  "nbformat": 4,
  "nbformat_minor": 0,
  "metadata": {
    "colab": {
      "provenance": [],
      "authorship_tag": "ABX9TyM7bzmcDrIVYK8YX/JNbMb1",
      "include_colab_link": true
    },
    "kernelspec": {
      "name": "python3",
      "display_name": "Python 3"
    },
    "language_info": {
      "name": "python"
    }
  },
  "cells": [
    {
      "cell_type": "markdown",
      "metadata": {
        "id": "view-in-github",
        "colab_type": "text"
      },
      "source": [
        "<a href=\"https://colab.research.google.com/github/kmk4444/Retrieval-augmented-generation/blob/main/Part4_show_and_compare_embeddingd.ipynb\" target=\"_parent\"><img src=\"https://colab.research.google.com/assets/colab-badge.svg\" alt=\"Open In Colab\"/></a>"
      ]
    },
    {
      "cell_type": "markdown",
      "source": [
        "We will compare embedding models which are OPENAI, COHERE AND HUGGING FACE"
      ],
      "metadata": {
        "id": "5y24NW6bJVHl"
      }
    },
    {
      "cell_type": "markdown",
      "source": [
        "**Requirements.txt**"
      ],
      "metadata": {
        "id": "hq8_1zxbJajg"
      }
    },
    {
      "cell_type": "code",
      "execution_count": null,
      "metadata": {
        "id": "0Anu-vu9I2Jh"
      },
      "outputs": [],
      "source": [
        "!touch requirements.txt\n",
        "!echo langchain >> requirements.txt\n",
        "!echo langchain-openai >> requirements.txt\n",
        "!echo openai >> requirements.txt\n",
        "!echo langchain-google-genai >> requirements.txt\n",
        "!echo cohere >> requirements.txt\n",
        "!echo faiss-cpu >> requirements.txt\n",
        "!echo streamlit >> requirements.txt\n",
        "!echo python-dotenv >> requirements.txt\n",
        "!echo llama-index >> requirements.txt\n",
        "!echo pypdf >> requirements.txt\n",
        "!echo chromadb >> requirements.tx\n",
        "!echo beautifulsoup4 >> requirements.tx\n",
        "!echo matplotlib >> requirements.tx\n",
        "!echo rank_bm25 >> requirements.tx\n",
        "!echo replicate >> requirements.txt"
      ]
    },
    {
      "cell_type": "markdown",
      "source": [
        "**Bash/command**"
      ],
      "metadata": {
        "id": "umixuKhKJeSK"
      }
    },
    {
      "cell_type": "code",
      "source": [
        "pip install -r requirements.txt"
      ],
      "metadata": {
        "id": "JjmaSVX8JjLd"
      },
      "execution_count": null,
      "outputs": []
    },
    {
      "cell_type": "code",
      "source": [
        "from openai import OpenAI\n",
        "import cohere\n",
        "import streamlit as st\n",
        "import requests\n",
        "import os\n",
        "from dotenv import load_dotenv\n",
        "\n",
        "#load_dotenv()\n",
        "#my_key_openai = os.getenv(\"openai_apikey\")\n",
        "#my_key_cohere = os.getenv(\"cohere_apikey\")\n",
        "#my_key_hf = os.getenv(\"huggingface_access_token\")\n",
        "\n",
        "OpenAI_client = OpenAI(api_key=my_key_openai)\n",
        "Cohere_client = cohere.Client(api_key=my_key_cohere)\n",
        "\n",
        "sample_text =\"Mevsimler neden oluşur? Dünya kendi etrafında döndüğü için mi?\"\n",
        "\n",
        "def get_openai_embeddings(text):\n",
        "  response = OpenAI_client.embeddings.create(\n",
        "      input=text,\n",
        "      model=\"text-embedding-3-small\"\n",
        "  )\n",
        "  embeddings = response.data[0].embedding\n",
        "  return embeddings\n",
        "\n",
        "def get_cohere_embeddings(text):\n",
        "  response = Cohere_client.embed(\n",
        "      texts=[text],\n",
        "      input_type=\"classification\",\n",
        "      model=\"embed-multilingual-v3.0\"\n",
        "  )\n",
        "  return response.embeddings[0]\n",
        "\n",
        "def get_hf_embeddings(text):\n",
        "  model_id = \"sentence-transformers/all-MiniLM-L6-v2\"\n",
        "\n",
        "  api_url = f\"https://api-inference.huggingface.co/pipeline/feature-extraction/{model_id}\"\n",
        "  headers = {\"Authorization\": f\"Bearer {my_key_hf}\"}\n",
        "\n",
        "  res\n"
      ],
      "metadata": {
        "id": "TcY8gBplJl12"
      },
      "execution_count": null,
      "outputs": []
    }
  ]
}