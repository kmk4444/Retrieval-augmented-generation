{
  "nbformat": 4,
  "nbformat_minor": 0,
  "metadata": {
    "colab": {
      "provenance": [],
      "authorship_tag": "ABX9TyOySeyXXRHA+imL1RuR1rYX",
      "include_colab_link": true
    },
    "kernelspec": {
      "name": "python3",
      "display_name": "Python 3"
    },
    "language_info": {
      "name": "python"
    }
  },
  "cells": [
    {
      "cell_type": "markdown",
      "metadata": {
        "id": "view-in-github",
        "colab_type": "text"
      },
      "source": [
        "<a href=\"https://colab.research.google.com/github/kmk4444/Retrieval-augmented-generation/blob/main/Part10_multiquery_rag.ipynb\" target=\"_parent\"><img src=\"https://colab.research.google.com/assets/colab-badge.svg\" alt=\"Open In Colab\"/></a>"
      ]
    },
    {
      "cell_type": "markdown",
      "source": [
        "**Requirements.txt**"
      ],
      "metadata": {
        "id": "7mgA3G_RPwQH"
      }
    },
    {
      "cell_type": "code",
      "source": [
        "!touch requirements.txt\n",
        "!echo langchain >> requirements.txt\n",
        "!echo langchain-openai >> requirements.txt\n",
        "!echo openai >> requirements.txt\n",
        "!echo langchain-google-genai >> requirements.txt\n",
        "!echo cohere >> requirements.txt\n",
        "!echo faiss-cpu >> requirements.txt\n",
        "!echo streamlit >> requirements.txt\n",
        "!echo python-dotenv >> requirements.txt\n",
        "!echo llama-index >> requirements.txt\n",
        "!echo pypdf >> requirements.txt\n",
        "!echo chromadb >> requirements.tx\n",
        "!echo beautifulsoup4 >> requirements.tx\n",
        "!echo matplotlib >> requirements.tx\n",
        "!echo rank_bm25 >> requirements.tx\n",
        "!echo replicate >> requirements.txt"
      ],
      "metadata": {
        "id": "UitqHfTHPxGF"
      },
      "execution_count": null,
      "outputs": []
    },
    {
      "cell_type": "markdown",
      "source": [
        "**Bash/command**"
      ],
      "metadata": {
        "id": "ozfWyLL4P07P"
      }
    },
    {
      "cell_type": "code",
      "execution_count": null,
      "metadata": {
        "id": "pcJFBRV8M3_s"
      },
      "outputs": [],
      "source": [
        "pip install -r requirements.txt"
      ]
    },
    {
      "cell_type": "code",
      "source": [
        "%%writefile multiqueryhelper.py\n",
        "\n",
        "from langchain_google_genai import ChatGoogleGenerativeAI\n",
        "from langchain_openai import ChatOpenAI\n",
        "from langchain_openai import OpenAIEmbeddings\n",
        "from langchain_community.document_loaders import WebBaseLoader\n",
        "from langchain_community.document_loaders import PyPDFLoader\n",
        "from langchain_community.vectorstores import FAISS\n",
        "from langchain.text_splitter import RecursiveCharacterTextSplitter\n",
        "from langchain_core.documents import Document\n",
        "import cohere\n",
        "import os\n",
        "from dotenv import load_dotenv\n",
        "\n",
        "#load_dotenv()\n",
        "\n",
        "#my_key_openai = os.getenv(\"openai_apikey\")\n",
        "#my_key_google = os.getenv(\"google_apikey\")\n",
        "#my_key_cohere = os.getenv(\"cohere_apikey\")\n",
        "\n",
        "my_key_openai=\"---\"\n",
        "my_key_google=\"---\"\n",
        "my_key_cohere=\"---\"\n",
        "\n",
        "llm_gemini = ChatGoogleGenerativeAI(google_api_key=my_key_google, model=\"gemini-pro\")\n",
        "llm_openai = ChatOpenAI(api_key=my_key_openai)\n",
        "embeddings = OpenAIEmbeddings(api_key=my_key_openai)\n",
        "cohere_client = cohere.Client(api_key=my_key_cohere)\n",
        "\n",
        "def generate_multi_query(original_prompt):\n",
        "    multiquery_prompt = f\"\"\"Sen bir yapay zeka asistanısın.\n",
        "\n",
        "    Bir vektör veri tabanından, kullanıcı sorusuna en fazla benzerlik gösteren dokümanların getirilmesi için, sana verilen kullanıcı girdisinin 3 farklı versiyonunu yazmakla görevlisin.\n",
        "\n",
        "    Bunu yaparken amacın ise vektörleri karşılaştırırken kullanılan mesafe ölçümlerinin bazı sınırlılıklarını aşmak için, verilen soruyla ilgili birden çok bakış açısı geliştirerek kullanıcıya yardımcı olmak.\n",
        "\n",
        "    Bu yazacağın alternatif soruları ayrı ayrı satırlarda olacak şekilde yaz.\n",
        "    Alternatif soruları yazarken bunların 1, 2, 3 gibi numaralandırmalar koyma.\n",
        "\n",
        "    Kullanıcı girdisi şöyle: {original_prompt}\"\"\"\n",
        "\n",
        "    generated_queries = llm_openai.invoke(input=multiquery_prompt) # chatbot created several questions.\n",
        "\n",
        "    temp_list = generated_queries.content.strip().split(\"\\n\")\n",
        "\n",
        "    query_list = [original_prompt]\n",
        "    query_list.extend(temp_list)\n",
        "\n",
        "    return query_list"
      ],
      "metadata": {
        "id": "WqLXyRuwQCXQ"
      },
      "execution_count": null,
      "outputs": []
    }
  ]
}