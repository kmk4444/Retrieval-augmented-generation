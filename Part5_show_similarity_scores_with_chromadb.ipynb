{
  "nbformat": 4,
  "nbformat_minor": 0,
  "metadata": {
    "colab": {
      "provenance": [],
      "authorship_tag": "ABX9TyNur1xg7bRuaG+xjZZHpQet",
      "include_colab_link": true
    },
    "kernelspec": {
      "name": "python3",
      "display_name": "Python 3"
    },
    "language_info": {
      "name": "python"
    }
  },
  "cells": [
    {
      "cell_type": "markdown",
      "metadata": {
        "id": "view-in-github",
        "colab_type": "text"
      },
      "source": [
        "<a href=\"https://colab.research.google.com/github/kmk4444/Retrieval-augmented-generation/blob/main/Part5_show_similarity_scores_with_chromadb.ipynb\" target=\"_parent\"><img src=\"https://colab.research.google.com/assets/colab-badge.svg\" alt=\"Open In Colab\"/></a>"
      ]
    },
    {
      "cell_type": "markdown",
      "source": [
        "We will show similiraty using chromadb"
      ],
      "metadata": {
        "id": "qIrurDgktuLw"
      }
    },
    {
      "cell_type": "code",
      "source": [
        "pip install chromadb"
      ],
      "metadata": {
        "id": "Um678_a8xVj2"
      },
      "execution_count": 5,
      "outputs": []
    },
    {
      "cell_type": "code",
      "execution_count": 11,
      "metadata": {
        "id": "UTLhD8lqsrOZ",
        "outputId": "68244d5f-eb02-4be8-9d3f-aaf61a6ec4bd",
        "colab": {
          "base_uri": "https://localhost:8080/"
        }
      },
      "outputs": [
        {
          "output_type": "stream",
          "name": "stderr",
          "text": [
            "/root/.cache/chroma/onnx_models/all-MiniLM-L6-v2/onnx.tar.gz: 100%|██████████| 79.3M/79.3M [00:02<00:00, 31.4MiB/s]\n"
          ]
        },
        {
          "output_type": "stream",
          "name": "stdout",
          "text": [
            "deneyde kullanılan sıçanlar aynı türden: 0.31437963247299194\n",
            "deneklerin hepsi aynı peyniri tercih etti: 0.48945996165275574\n",
            "araştırmada on laboratuvar hayvanı kullanıldı: 0.6116959452629089\n",
            "labirentte peynir arayan hayvanlara yardım ettik: 0.7789906859397888\n",
            "Zahmetli hesaplamalar sayesinde roketlerin yörünge hızı hesaplanıyor: 0.7861438989639282\n"
          ]
        }
      ],
      "source": [
        "import chromadb\n",
        "\n",
        "#client = chromadb.HttpClient()\n",
        "\n",
        "client = chromadb.Client()\n",
        "\n",
        "collection_status = False\n",
        "\n",
        "current_collections = client.list_collections()\n",
        "\n",
        "for collection in current_collections:\n",
        "    if collection.name == \"new_collection\":\n",
        "        collection_status = True\n",
        "        break\n",
        "\n",
        "if collection_status:\n",
        "    my_collection = client.get_collection(\"new_collection\")\n",
        "else:\n",
        "    my_collection = client.create_collection(\"new_collection\")\n",
        "\n",
        "    my_collection.add(\n",
        "        documents=[\n",
        "            \"labirentte peynir arayan hayvanlara yardım ettik\",\n",
        "            \"deneklerin hepsi aynı peyniri tercih etti\",\n",
        "            \"deneyde kullanılan sıçanlar aynı türden\",\n",
        "            \"araştırmada on laboratuvar hayvanı kullanıldı\",\n",
        "            \"Zahmetli hesaplamalar sayesinde roketlerin yörünge hızı hesaplanıyor\"\n",
        "            ],\n",
        "\n",
        "        metadatas=[\n",
        "            {\"source\": \"notion\"},\n",
        "            {\"source\": \"google-docs\"},\n",
        "            {\"source\": \"txt file\"},\n",
        "            {\"source\": \"txt file\"},\n",
        "            {\"source\": \"txt file\"}\n",
        "            ],\n",
        "        ids=[\n",
        "            \"doc1\",\n",
        "            \"doc2\",\n",
        "            \"doc3\",\n",
        "            \"doc4\",\n",
        "            \"doc5\"\n",
        "            ], # must be unique for each doc\n",
        "    )\n",
        "\n",
        "results = my_collection.query(\n",
        "    query_texts=[\"deney faresi kullanıldı\"],\n",
        "    n_results=5,\n",
        ")\n",
        "\n",
        "retrieved_docs = results['documents'][0]\n",
        "retrieved_distances = results['distances'][0]\n",
        "\n",
        "for i, doc in enumerate(retrieved_docs):\n",
        "    print(f\"{doc}: {retrieved_distances[i]}\")\n",
        "\n",
        "\n",
        "#Before running this file, first run the \"chroma run\" command from another terminal. Once server is up you can use this\n",
        "# python can also run in-memory with no server running: chromadb.PersistentClient()\n",
        "\n",
        "# import chromadb\n",
        "# client = chromadb.HttpClient()\n",
        "# collection = client.create_collection(\"thenewest_collection\")\n",
        "\n",
        "# # Add docs to the collection. Can also update and delete. Row-based API coming soon!\n",
        "# collection.add(\n",
        "#     documents=[\"You are not alone\", \"This is document2\", \"Seasons happen for some reason\"], # we embed for you, or bring your own\n",
        "#     metadatas=[{\"source\": \"notion\"}, {\"source\": \"google-docs\"}, {\"source\":\"txt file\"}], # filter on arbitrary metadata!\n",
        "#     ids=[\"doc1\", \"doc2\", \"doc3\"], # must be unique for each doc\n",
        "# )\n",
        "\n",
        "# results = collection.query(\n",
        "#     query_texts=[\"Earth has seasons due to certain factors\"],\n",
        "#     n_results=1,\n",
        "#     # where={\"metadata_field\": \"is_equal_to_this\"}, # optional filter\n",
        "#     # where_document={\"$contains\":\"search_string\"}  # optional filter\n",
        "# )\n",
        "\n",
        "# print(results)\n",
        "# print(\"*\"*100)\n",
        "# print(f\"Distances: {results['distances']}\")"
      ]
    }
  ]
}