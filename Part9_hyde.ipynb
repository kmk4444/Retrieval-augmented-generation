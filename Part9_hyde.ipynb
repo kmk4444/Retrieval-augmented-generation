{
  "nbformat": 4,
  "nbformat_minor": 0,
  "metadata": {
    "colab": {
      "provenance": [],
      "authorship_tag": "ABX9TyPQauGXq8OVEz2r4CBdvhL+",
      "include_colab_link": true
    },
    "kernelspec": {
      "name": "python3",
      "display_name": "Python 3"
    },
    "language_info": {
      "name": "python"
    }
  },
  "cells": [
    {
      "cell_type": "markdown",
      "metadata": {
        "id": "view-in-github",
        "colab_type": "text"
      },
      "source": [
        "<a href=\"https://colab.research.google.com/github/kmk4444/Retrieval-augmented-generation/blob/main/Part9_hyde.ipynb\" target=\"_parent\"><img src=\"https://colab.research.google.com/assets/colab-badge.svg\" alt=\"Open In Colab\"/></a>"
      ]
    },
    {
      "cell_type": "markdown",
      "source": [
        "**Requirements.txt**"
      ],
      "metadata": {
        "id": "O7BH5JpTAUAA"
      }
    },
    {
      "cell_type": "code",
      "execution_count": null,
      "metadata": {
        "id": "bPULd06c8M4T"
      },
      "outputs": [],
      "source": [
        "!touch requirements.txt\n",
        "!echo langchain >> requirements.txt\n",
        "!echo langchain-openai >> requirements.txt\n",
        "!echo openai >> requirements.txt\n",
        "!echo langchain-google-genai >> requirements.txt\n",
        "!echo cohere >> requirements.txt\n",
        "!echo faiss-cpu >> requirements.txt\n",
        "!echo streamlit >> requirements.txt\n",
        "!echo python-dotenv >> requirements.txt\n",
        "!echo llama-index >> requirements.txt\n",
        "!echo pypdf >> requirements.txt\n",
        "!echo chromadb >> requirements.tx\n",
        "!echo beautifulsoup4 >> requirements.tx\n",
        "!echo matplotlib >> requirements.tx\n",
        "!echo rank_bm25 >> requirements.tx\n",
        "!echo replicate >> requirements.txt"
      ]
    },
    {
      "cell_type": "markdown",
      "source": [
        "**Bash/command**"
      ],
      "metadata": {
        "id": "gut7Zx6_AZna"
      }
    },
    {
      "cell_type": "code",
      "source": [
        "pip install -r requirements.txt"
      ],
      "metadata": {
        "id": "hbH4BTc6AXpq"
      },
      "execution_count": null,
      "outputs": []
    },
    {
      "cell_type": "code",
      "source": [
        "from langchain.text_splitter import RecursiveCharacterTextSplitter\n",
        "from langchain_community.vectorstores.chroma import Chroma\n",
        "from langchain_community.document_loaders import WebBaseLoader\n",
        "from langchain_core.documents import Document\n",
        "from langchain_google_genai import ChatGoogleGenerativeAI\n",
        "from langchain_openai import ChatOpenAI\n",
        "from langchain_openai import OpenAIEmbeddings\n",
        "import os\n",
        "from dotenv import load_dotenv\n",
        "\n",
        "load_dotenv()\n",
        "\n",
        "#my_key_openai = os.getenv(\"openai_apikey\")\n",
        "#my_key_google = os.getenv(\"google_apikey\")\n",
        "my_key_openai=\"---\"\n",
        "my_key_google=\"---\"\n",
        "\n",
        "embeddings = OpenAIEmbeddings(api_key=my_key_openai)\n",
        "llm_gemini = ChatGoogleGenerativeAI(google_api_key=my_key_google, model = \"gemini-pro\")\n",
        "llm_openai = ChatOpenAI(api_key=my_key_google, model = \"gpt-4-0125-preview\")\n",
        "\n",
        "def load_and_split_documents(target_url):\n",
        "\n",
        "  loader = WebBaseLoader(target_url)\n",
        "\n",
        "  raw_documents = loader.load()\n",
        "\n",
        "  text_splitter = RecursiveCharacterTextSplitter(\n",
        "      chunk_size=1000,\n",
        "      chunk_overlap=0,\n",
        "      length_function=len\n",
        "  )\n",
        "\n",
        "  splitted_documents = text_splitter.split_documents(raw_documents)\n",
        "\n",
        "  custom_documents = []\n",
        "\n",
        "  for i, raw_doc in enumerate(splitted_documents):\n",
        "    new_doc = Document(\n",
        "        page_content = raw_doc.page_content,\n",
        "        metadata = {\n",
        "            \"source\": raw_doc.metadata[\"source\"],\n",
        "            \"title\" : raw_doc.metadata[\"title\"],\n",
        "            \"description\" : raw_doc.metadata[\"description\"],\n",
        "            \"language\" : raw_doc.metadata[\"language\"],\n",
        "            \"doc_id\" : i\n",
        "        }\n",
        "    )\n",
        "\n",
        "    custom_documents.append(new_doc)\n",
        "\n",
        "  return custom_documents\n",
        "\n",
        "def get_relevant_documents(prompt, documents):\n",
        "\n",
        "  vectorstore = Chroma.from_documents(documents, embeddings)\n",
        "\n",
        "  retriever = vectorstore.as_retriever(search_type =\"mmr\")\n",
        "\n",
        "  relevant_documents = retriever.get_relevant_documents(prompt)\n",
        "\n",
        "  return relevant_documents\n",
        "\n",
        "def run_rag(relevant_documents, prompt):\n",
        "  context_data=\"\"\n",
        "\n",
        "  for document in relevant_documents:\n",
        "    context_data = context_data + \" \" + document.page_content\n",
        "\n",
        "  final_prompt = f\"\"\"Şöyle bir sorum var: {prompt}\n",
        "  Bu soruyu yanıtlamak için elimizde şu bilgiler var: {context_data} .\n",
        "  Bu sorunun yanıtını vermek için yalnızca sana burada verdiğim eldeki bilgileri kullan. Bunların dışına asla çıkma.\n",
        "  \"\"\"\n",
        "\n",
        "  AI_Response = llm_gemini.invoke(input=final_prompt)\n",
        "\n",
        "  return AI_Response.content\n",
        "\n",
        "def generate_hypothetical_document(prompt):\n",
        "\n",
        "  HyDE_Prompt = f\"\"\"Kullanıcının sorusunu cevaplamak için kısa bir paragraf yaz.\n",
        "  Kullanıcı Sorusu: {prompt}\n",
        "  \"\"\"\n",
        "\n",
        "  hypothetical_answer = llm_gemini.invoke(input=HyDE_Prompt)\n",
        "\n",
        "  return hypothetical_answer.content"
      ],
      "metadata": {
        "id": "biJCp_BoAatj"
      },
      "execution_count": null,
      "outputs": []
    },
    {
      "cell_type": "code",
      "source": [
        "import streamlit as st\n",
        "import hydehelper"
      ],
      "metadata": {
        "id": "eSFldV17JDsL"
      },
      "execution_count": null,
      "outputs": []
    }
  ]
}