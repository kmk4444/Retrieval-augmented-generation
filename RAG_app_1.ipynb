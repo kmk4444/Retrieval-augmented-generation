{
  "nbformat": 4,
  "nbformat_minor": 0,
  "metadata": {
    "colab": {
      "provenance": [],
      "mount_file_id": "https://github.com/kmk4444/Retrieval-augmented-generation/blob/main/RAG_app_1.ipynb",
      "authorship_tag": "ABX9TyPWycbMkc9FDMFOLOs2Fumm",
      "include_colab_link": true
    },
    "kernelspec": {
      "name": "python3",
      "display_name": "Python 3"
    },
    "language_info": {
      "name": "python"
    }
  },
  "cells": [
    {
      "cell_type": "markdown",
      "metadata": {
        "id": "view-in-github",
        "colab_type": "text"
      },
      "source": [
        "<a href=\"https://colab.research.google.com/github/kmk4444/Retrieval-augmented-generation/blob/main/RAG_app_1.ipynb\" target=\"_parent\"><img src=\"https://colab.research.google.com/assets/colab-badge.svg\" alt=\"Open In Colab\"/></a>"
      ]
    },
    {
      "cell_type": "markdown",
      "source": [
        "**Requirements.txt**"
      ],
      "metadata": {
        "id": "vB03SJ_LK-uq"
      }
    },
    {
      "cell_type": "code",
      "source": [
        "!touch requirements.txt\n",
        "!echo langchain >> requirements.txt\n",
        "!echo langchain-openai >> requirements.txt\n",
        "!echo langchain-google-genai >> requirements.txt\n",
        "!echo langchain_experimental >> requirements.txt\n",
        "!echo openai >> requirements.txt\n",
        "!echo anthropic >> requirements.txt\n",
        "!echo cohere >> requirements.txt\n",
        "!echo streamlit==1.29.0 >> requirements.txt\n",
        "!echo python-dotenv >> requirements.txt\n",
        "!echo beautifulsoup4 >> requirements.txt\n",
        "!echo faiss-cpu >> requirements.txt\n",
        "!echo pypdf >> requirements.txt\n",
        "!echo unstructured >> requirements.txt\n",
        "!echo networkx >> requirements.txt\n",
        "!echo openpyxl >> requirements.txt\n",
        "!echo rapidocr-onnxruntime >> requirements.txt\n",
        ""
      ],
      "metadata": {
        "id": "2FNM-JFWLB2a"
      },
      "execution_count": 1,
      "outputs": []
    },
    {
      "cell_type": "markdown",
      "source": [
        "**terminal / bash komutu**\n"
      ],
      "metadata": {
        "id": "RyJ7lY6uLCdr"
      }
    },
    {
      "cell_type": "code",
      "source": [
        "pip install -r requirements.txt"
      ],
      "metadata": {
        "colab": {
          "base_uri": "https://localhost:8080/"
        },
        "id": "2rXXncFyLFul",
        "outputId": "ad83aa84-f8e9-4047-cfbb-a1c3a6aba918"
      },
      "execution_count": 2,
      "outputs": [
        {
          "output_type": "stream",
          "name": "stdout",
          "text": [
            "Successfully installed anthropic-0.25.8 backoff-2.2.1 cohere-5.3.5 coloredlogs-15.0.1 dataclasses-json-0.6.5 deepdiff-7.0.1 emoji-2.11.1 faiss-cpu-1.8.0 fastavro-1.9.4 filetype-1.2.0 gitdb-4.0.11 gitpython-3.1.43 h11-0.14.0 httpcore-1.0.5 httpx-0.27.0 httpx-sse-0.4.0 humanfriendly-10.0 importlib-metadata-6.11.0 jsonpatch-1.33 jsonpath-python-1.0.6 jsonpointer-2.4 langchain-0.1.19 langchain-community-0.0.38 langchain-core-0.1.52 langchain-google-genai-1.0.3 langchain-openai-0.1.6 langchain-text-splitters-0.0.1 langchain_experimental-0.0.58 langdetect-1.0.9 langsmith-0.1.56 marshmallow-3.21.2 mypy-extensions-1.0.0 onnxruntime-1.17.3 openai-1.27.0 ordered-set-4.1.0 orjson-3.10.3 packaging-23.2 pyclipper-1.3.0.post5 pydeck-0.9.0 pypdf-4.2.0 python-dotenv-1.0.1 python-iso639-2024.4.27 python-magic-0.4.27 rapidfuzz-3.9.0 rapidocr-onnxruntime-1.3.17 smmap-5.0.1 streamlit-1.29.0 tiktoken-0.6.0 types-requests-2.31.0.20240406 typing-inspect-0.9.0 unstructured-0.13.7 unstructured-client-0.22.0 validators-0.28.1 watchdog-4.0.0\n"
          ]
        }
      ]
    },
    {
      "cell_type": "code",
      "execution_count": 12,
      "metadata": {
        "id": "KPwbBWPO3YYB",
        "colab": {
          "base_uri": "https://localhost:8080/"
        },
        "outputId": "82876481-3886-4fe6-9ac7-e61c482ec17e"
      },
      "outputs": [
        {
          "output_type": "stream",
          "name": "stdout",
          "text": [
            "Overwriting raghelper.py\n"
          ]
        }
      ],
      "source": [
        "#raghelper.py\n",
        "%%writefile raghelper.py\n",
        "from langchain_google_genai import ChatGoogleGenerativeAI\n",
        "from langchain_openai import OpenAIEmbeddings\n",
        "from langchain_community.document_loaders import WebBaseLoader\n",
        "from langchain_community.document_loaders import PyPDFLoader\n",
        "from langchain_community.vectorstores import FAISS # it is vector database. we will use FAISS database. It is created by Facebook.\n",
        "from langchain.text_splitter import RecursiveCharacterTextSplitter\n",
        "from langchain_community.embeddings import CohereEmbeddings\n",
        "from langchain_community.embeddings import HuggingFaceInferenceAPIEmbeddings\n",
        "import os\n",
        "from dotenv import load_dotenv\n",
        "\n",
        "#load_dotenv()\n",
        "#my_key_openai = os.getenv(\"openai_apikey\")\n",
        "#my_key_google = os.getenv(\"google_apikey\")\n",
        "#my_key_cohere = os.getenv(\"cohere_apikey\")\n",
        "#my_key_hf = os.getenv(\"huggingface_access_token\")\n",
        "my_key_openai=\"----\"\n",
        "my_key_google=\"----\"\n",
        "my_key_cohere=\"---\"\n",
        "my_key_hf=\"---\"\n",
        "\n",
        "llm_gemini = ChatGoogleGenerativeAI(google_api_key=my_key_google, model=\"gemini-pro\")\n",
        "\n",
        "embeddings = OpenAIEmbeddings(api_key=my_key_openai)\n",
        "\n",
        "def ask_gemini(prompt):\n",
        "  AI_Response = llm_gemini.invoke(prompt)\n",
        "\n",
        "  return AI_Response.content\n",
        "\n",
        "def rag_with_url(target_url,prompt):\n",
        "  #load url\n",
        "  loader = WebBaseLoader(target_url)\n",
        "  raw_documents = loader.load() # raw_documents is document list (list[document])\n",
        "\n",
        "  #create chunk using splitters\n",
        "  #below code can run without any parameters but to reach the best answer you should try different parameters.\n",
        "  #  text_splitter = RecursiveCharacterTextSplitter()\n",
        "  text_splitter = RecursiveCharacterTextSplitter(\n",
        "      chunk_size=1000,\n",
        "      chunk_overlap=0,\n",
        "      length_function=len # it provides that how to estimate lenght of chunk. we will use len because of python list rule.\n",
        "  )\n",
        "\n",
        "  # we run split_documents method which is inside of text_splitter and save to splitted_document\n",
        "  splitted_document = text_splitter.split_documents(raw_documents)\n",
        "\n",
        "  # we need to save splited documents in vector database.\n",
        "  # FAISS create vectors from our documents using our embedding model and save vectordatabase.\n",
        "  vectorstore = FAISS.from_documents(splitted_document, embeddings)\n",
        "  # we reach as_retriever method in vectorstore. We convert vector store into retriever.\n",
        "  # retriever won't retrieve all vectors, it retrieves vector considering context similarity among vector and prompt.\n",
        "  #mostly, similarity is estimated by cosine similarity.\n",
        "  retriever = vectorstore.as_retriever()\n",
        "  relevant_documents = retriever.get_relevant_documents(prompt) # it retrieves the most similar document accordingly our prompt. It can be 3,4 or more documents. Default value is 4.\n",
        "\n",
        "  context_data =\"\"\n",
        "\n",
        "  #Also, we use build function instead of the below code.\n",
        "  for document in relevant_documents:\n",
        "    context_data = context_data + \" \" + document.page_content # document has two features which are metada and page_content.\n",
        "    #because the main data is in context_data.\n",
        "  final_prompt = f\"\"\"Şöyle bir sorum var: {prompt}\n",
        "  Bu soruyu yanıtlamak için elimizde şu bilgiler var: {context_data} .\n",
        "  Bu sorunun yanıtını vermek için yalnızca sana burada verdiğim eldeki bilgileri kullan. Bunların dışına asla çıkma.\n",
        "  \"\"\"\n",
        "  AI_Response = llm_gemini.invoke(prompt)\n",
        "\n",
        "  return AI_Response.content\n",
        "\n",
        "def rag_with_pdf(filepath, prompt):\n",
        "\n",
        "    loader = PyPDFLoader(filepath)\n",
        "\n",
        "    raw_documents = loader.load()\n",
        "\n",
        "    text_splitter = RecursiveCharacterTextSplitter(\n",
        "        chunk_size=1000,\n",
        "        chunk_overlap=0,\n",
        "        length_function=len\n",
        "    )\n",
        "\n",
        "\n",
        "    splitted_documents = text_splitter.split_documents(raw_documents)\n",
        "\n",
        "    vectorstore = FAISS.from_documents(splitted_documents, embeddings)\n",
        "    retriever = vectorstore.as_retriever()\n",
        "\n",
        "    relevant_documents = retriever.get_relevant_documents(prompt)\n",
        "\n",
        "    context_data = \"\"\n",
        "\n",
        "    for document in relevant_documents:\n",
        "        context_data = context_data + \" \" + document.page_content\n",
        "\n",
        "    final_prompt = f\"\"\"Şöyle bir sorum var: {prompt}\n",
        "    Bu soruyu yanıtlamak için elimizde şu bilgiler var: {context_data} .\n",
        "    Bu sorunun yanıtını vermek için yalnızca sana burada verdiğim eldeki bilgileri kullan. Bunların dışına asla çıkma.\n",
        "    \"\"\"\n",
        "\n",
        "    AI_Response = llm_gemini.invoke(final_prompt)\n",
        "\n",
        "    return AI_Response.content, relevant_documents"
      ]
    },
    {
      "cell_type": "code",
      "source": [
        "%%writefile rag.py\n",
        "#Streamlit\n",
        "import streamlit as st\n",
        "import raghelper\n",
        "\n",
        "st.set_page_config(page_title=\"Langchain ile Bellek Genişletme\",layout=\"wide\")\n",
        "st.title(\"Langchain ile Bellek Genişletme: URL\")\n",
        "st.divider()\n",
        "\n",
        "col_input, col_rag, col_normal = st.columns([1,2,2])\n",
        "\n",
        "with col_input:\n",
        "  target_url = st.text_input(label=\"İşlenecek Web Adresinizi Giriniz:\")\n",
        "  st.divider()\n",
        "  prompt=st.text_input(label=\"Sorunuzu Giriniz:\", key=\"url_prompt\")\n",
        "  st.divider()\n",
        "  submit_btn = st.button(label=\"Sor\", key=\"url_button\")\n",
        "  st.divider()\n",
        "\n",
        "  if submit_btn:\n",
        "    with col_rag:\n",
        "      with st.spinner(\"Yanıt Hazırlanıyor....\"):\n",
        "        st.success(\"YANIT - Bellek Genişletme Devrede\")\n",
        "        st.markdown(raghelper.rag_with_url(target_url=target_url,prompt=prompt))\n",
        "        st.divider()\n",
        "\n",
        "    with col_normal:\n",
        "      with st.spinner(\"Yanıt Hazırlanıyor....\"):\n",
        "        st.info(\"YANIT - Bellek Genişletme Devre Dışı\") # info provides blue\n",
        "        st.markdown(raghelper.ask_gemini(prompt=prompt))\n",
        "        st.divider()\n",
        "\n",
        "st.title(\"Langchain ile Bellek Genişletme: PDF\")\n",
        "st.divider()\n",
        "\n",
        "col_input, col_rag, col_normal = st.columns([1,2,2])\n",
        "\n",
        "with col_input:\n",
        "    selected_file = st.file_uploader(label=\"İşlenecek Dosyayı Seçiniz\", type=\"pdf\")\n",
        "    st.divider()\n",
        "    prompt = st.text_input(label=\"Sorunuzu Giriniz:\", key=\"pdf_prompt\")\n",
        "    st.divider()\n",
        "    submit_btn = st.button(label=\"Sor\", key=\"pdf_button\")\n",
        "    st.divider()\n",
        "\n",
        "\n",
        "if submit_btn:\n",
        "  with col_rag:\n",
        "    with st.spinner(\"Yanıt Hazırlanıyor...\"):\n",
        "      st.success(\"YANIT - Bellek Genişletme Devrede\")\n",
        "      #AI_Response, relevant_documents = raghelper.rag_with_pdf(filepath=f\"content/drive/MyDrive/{selected_file.name}\", prompt=prompt) # we cannot upload document because of streamlit error on google colab but you can write this code in your local computer.\n",
        "      AI_Response, relevant_documents = raghelper.rag_with_pdf(filepath =\"/content/drive/MyDrive/gelecek.pdf\", prompt=prompt)\n",
        "      st.markdown(AI_Response)\n",
        "      st.divider()\n",
        "      for doc in relevant_documents:\n",
        "        st.caption(doc.page_content)\n",
        "        st.markdown(f\"Kaynak: {doc.metadata}\")\n",
        "        st.divider()\n",
        "\n",
        "  with col_normal:\n",
        "    with st.spinner(\"Yanıt Hazırlanıyor...\"):\n",
        "      st.info(\"YANIT - Bellek Genişletme Devre Dışı\")\n",
        "      st.markdown(raghelper.ask_gemini(prompt=prompt))\n",
        "      st.divider()"
      ],
      "metadata": {
        "colab": {
          "base_uri": "https://localhost:8080/"
        },
        "id": "y4tvLwXALIab",
        "outputId": "45982252-1915-43d9-ec61-2cb5fbfbc3d5"
      },
      "execution_count": 13,
      "outputs": [
        {
          "output_type": "stream",
          "name": "stdout",
          "text": [
            "Overwriting rag.py\n"
          ]
        }
      ]
    },
    {
      "cell_type": "code",
      "source": [
        "!npm install localtunnel\n",
        "!streamlit run /content/rag.py &>/content/logs.txt &\n",
        "!npx localtunnel --port 8501"
      ],
      "metadata": {
        "colab": {
          "base_uri": "https://localhost:8080/"
        },
        "id": "nF1LEmidRtzo",
        "outputId": "2623707b-f3d0-465a-f225-96f493f35d86"
      },
      "execution_count": 14,
      "outputs": [
        {
          "output_type": "stream",
          "name": "stdout",
          "text": [
            "\u001b[K\u001b[?25h\u001b[37;40mnpm\u001b[0m \u001b[0m\u001b[30;43mWARN\u001b[0m \u001b[0m\u001b[35msaveError\u001b[0m ENOENT: no such file or directory, open '/content/package.json'\n",
            "\u001b[K\u001b[?25h\u001b[37;40mnpm\u001b[0m \u001b[0m\u001b[30;43mWARN\u001b[0m \u001b[0m\u001b[35menoent\u001b[0m ENOENT: no such file or directory, open '/content/package.json'\n",
            "\u001b[0m\u001b[37;40mnpm\u001b[0m \u001b[0m\u001b[30;43mWARN\u001b[0m\u001b[35m\u001b[0m content No description\n",
            "\u001b[0m\u001b[37;40mnpm\u001b[0m \u001b[0m\u001b[30;43mWARN\u001b[0m\u001b[35m\u001b[0m content No repository field.\n",
            "\u001b[0m\u001b[37;40mnpm\u001b[0m \u001b[0m\u001b[30;43mWARN\u001b[0m\u001b[35m\u001b[0m content No README data\n",
            "\u001b[0m\u001b[37;40mnpm\u001b[0m \u001b[0m\u001b[30;43mWARN\u001b[0m\u001b[35m\u001b[0m content No license field.\n",
            "\u001b[0m\n",
            "\u001b[K\u001b[?25h+ localtunnel@2.0.2\n",
            "updated 1 package and audited 36 packages in 0.537s\n",
            "\n",
            "3 packages are looking for funding\n",
            "  run `npm fund` for details\n",
            "\n",
            "found 2 \u001b[93mmoderate\u001b[0m severity vulnerabilities\n",
            "  run `npm audit fix` to fix them, or `npm audit` for details\n",
            "\u001b[K\u001b[?25hnpx: installed 22 in 4.104s\n",
            "your url is: https://crazy-mice-attack.loca.lt\n",
            "^C\n"
          ]
        }
      ]
    }
  ]
}